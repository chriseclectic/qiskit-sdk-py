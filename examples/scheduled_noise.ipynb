{
 "cells": [
  {
   "cell_type": "markdown",
   "metadata": {},
   "source": [
    "# Adding noise to a scheduled circuit\n",
    "\n",
    "- *Author*: Christopher J Wood\n",
    "- *Last Updated*: May 11, 2020\n",
    "- *Requires*: Itoko's Scheduled Circuit terra branch https://github.com/itoko/qiskit-sdk-py/tree/mvp-circuit-with-duration"
   ]
  },
  {
   "cell_type": "code",
   "execution_count": 1,
   "metadata": {},
   "outputs": [],
   "source": [
    "from qiskit import transpile\n",
    "from qiskit.converters import circuit_to_dag, dag_to_circuit\n",
    "from qiskit.transpiler.passes.scheduling.asap import ASAPSchedule\n",
    "from qiskit.transpiler.passes.scheduling.alap import ALAPSchedule\n",
    "from qiskit.transpiler.passes.scheduling.alap import ALAPSchedule\n",
    "from qiskit.transpiler.passes.scheduling.timestepsasap import TimestepsASAPSchedule\n",
    "\n",
    "import qiskit.quantum_info as qi\n",
    "from qiskit.providers.aer.noise import thermal_relaxation_error\n",
    "from qiskit.extensions import RZZGate\n",
    "\n",
    "import itertools as it\n",
    "import numpy as np\n",
    "import seaborn as sns\n",
    "sns.set()\n",
    "\n",
    "def schedule(circuit, backend):\n",
    "    \"\"\"Schedule a circuit.\"\"\"\n",
    "    # TODO: Allow specifying gate times without having to pass in a backend    \n",
    "    dag = circuit_to_dag(circuit)\n",
    "    dag_with_delays = ASAPSchedule(backend).run(dag)\n",
    "    scheduled = dag_to_circuit(dag_with_delays)\n",
    "    return scheduled\n",
    "\n",
    "def timestep_schedule(circuit, backend):\n",
    "    \"\"\"Schedule a circuit with time-steps added\"\"\"\n",
    "    dag = circuit_to_dag(circuit)\n",
    "    dag_with_delays = TimestepsASAPSchedule(backend).run(dag)\n",
    "    scheduled = dag_to_circuit(dag_with_delays)\n",
    "    return scheduled\n",
    "\n",
    "def insert_noise(scheduled_circuit, dt=None, t1=None, t2=None, zz_map=None):\n",
    "    \"\"\"Insert thermal relaxation and cross-talk noise into a scheduled circuit.\"\"\"\n",
    "    \n",
    "    # This replaces all noisy instructions in circuit with a\n",
    "    # Kraus instruction for simulation\n",
    "    \n",
    "    # Create empty circuit\n",
    "    noise_circ = QuantumCircuit(*scheduled_circuit.qregs, *scheduled_circuit.cregs)\n",
    "    allowed_qubits = set(range(noise_circ.num_qubits))\n",
    "\n",
    "    for instr, qubits, clbits in scheduled_circuit.data:\n",
    "        \n",
    "        # Check if time step instruction\n",
    "        # TODO: check via isinstance instead of name\n",
    "        if instr.name == 'timestep':\n",
    "            # Add cross-talk\n",
    "            # TODO: handle unit conversion from zz to time unites\n",
    "            if zz_map is not None:\n",
    "                for w_zz, qubits in zz_map:\n",
    "                    if allowed_qubits.union(qubits) == allowed_qubits:\n",
    "                        t = instr.params[0] * dt\n",
    "                        if t > 0 and abs(w_zz) > 0:\n",
    "                            gate = RZZGate(w_zz * t)\n",
    "                            gate.label = 'ZZ(noise)'\n",
    "                            noise_circ.append(gate, qubits)\n",
    "        else:\n",
    "            # Add relaxation errors\n",
    "            t = instr.duration * dt\n",
    "            if t > 0:\n",
    "                try:\n",
    "                    iqubits = [i.index for i in qubits]\n",
    "                    errors = [thermal_relaxation_error(t1[i], t2[i], t) for i in iqubits]\n",
    "\n",
    "                    # Combine errors with gate\n",
    "                    sop = qi.SuperOp(instr)\n",
    "                    for i, err in enumerate(errors):\n",
    "                        sop = sop.compose(err, [i])\n",
    "\n",
    "                    # Convert to Kraus instruction for adding to circuit\n",
    "                    noise_instr = sop.to_instruction()\n",
    "\n",
    "                    # Add label for plotting\n",
    "                    noise_instr.label = instr.name + '(noise)'\n",
    "                    noise_circ.append(noise_instr, qubits, clbits)\n",
    "                except:\n",
    "                    raise QiskitError(\"Unable to convert noise instruction!\")\n",
    "            else:\n",
    "                noise_circ.append(instr, qubits, clbits)\n",
    "    return noise_circ"
   ]
  },
  {
   "cell_type": "code",
   "execution_count": null,
   "metadata": {},
   "outputs": [],
   "source": []
  },
  {
   "cell_type": "markdown",
   "metadata": {},
   "source": [
    "# Example: d=3 surface code plaquette check operation\n",
    "\n",
    "Lets consider an example of a circuit with a lot of \"idle time\" on qubits.\n",
    "\n",
    "## Target Backend\n",
    "\n",
    "We will use a mock backend for this example. The backend is currently needed to get timing informaiton for scheduling gates (though this should optionally be able to supplied manually).\n",
    "\n",
    "We will also truncate the backends coupling map so we don't expand our circuit past its orginal number of qubits"
   ]
  },
  {
   "cell_type": "code",
   "execution_count": 2,
   "metadata": {},
   "outputs": [
    {
     "data": {
      "text/plain": [
       "[[0, 1], [1, 0], [1, 2], [1, 4], [2, 1], [2, 3], [3, 2], [4, 1]]"
      ]
     },
     "execution_count": 2,
     "metadata": {},
     "output_type": "execute_result"
    }
   ],
   "source": [
    "from qiskit.test.mock.backends import FakeParis\n",
    "\n",
    "backend = FakeParis()\n",
    "configuration = backend.configuration()\n",
    "properties = backend.properties()\n",
    "\n",
    "# Truncate coupling map\n",
    "max_qubits = 5\n",
    "coupling_map = [i for i in configuration.coupling_map if max(i) < max_qubits]\n",
    "coupling_map"
   ]
  },
  {
   "cell_type": "markdown",
   "metadata": {},
   "source": [
    "## Example Circuit\n",
    "\n",
    "Lets consider a d=3 surface code plaquette check operator"
   ]
  },
  {
   "cell_type": "code",
   "execution_count": 3,
   "metadata": {},
   "outputs": [
    {
     "data": {
      "text/html": [
       "<pre style=\"word-wrap: normal;white-space: pre;background: #fff0;line-height: 1.1;font-family: &quot;Courier New&quot;,Courier,monospace\">          ┌───┐                    \n",
       "q_0: ─────┤ X ├────────────────────\n",
       "     ┌───┐└─┬─┘               ┌───┐\n",
       "q_1: ┤ H ├──■────■────■────■──┤ H ├\n",
       "     └───┘     ┌─┴─┐  │    │  └───┘\n",
       "q_2: ──────────┤ X ├──┼────┼───────\n",
       "               └───┘┌─┴─┐  │       \n",
       "q_3: ───────────────┤ X ├──┼───────\n",
       "                    └───┘┌─┴─┐     \n",
       "q_4: ────────────────────┤ X ├─────\n",
       "                         └───┘     </pre>"
      ],
      "text/plain": [
       "          ┌───┐                    \n",
       "q_0: ─────┤ X ├────────────────────\n",
       "     ┌───┐└─┬─┘               ┌───┐\n",
       "q_1: ┤ H ├──■────■────■────■──┤ H ├\n",
       "     └───┘     ┌─┴─┐  │    │  └───┘\n",
       "q_2: ──────────┤ X ├──┼────┼───────\n",
       "               └───┘┌─┴─┐  │       \n",
       "q_3: ───────────────┤ X ├──┼───────\n",
       "                    └───┘┌─┴─┐     \n",
       "q_4: ────────────────────┤ X ├─────\n",
       "                         └───┘     "
      ]
     },
     "execution_count": 3,
     "metadata": {},
     "output_type": "execute_result"
    }
   ],
   "source": [
    "from qiskit import QuantumCircuit\n",
    "\n",
    "qc = QuantumCircuit(5)\n",
    "qc.h(1)\n",
    "qc.cx(1, 0)\n",
    "qc.cx(1, 2)\n",
    "qc.cx(1, 3)\n",
    "qc.cx(1, 4)\n",
    "qc.h(1)\n",
    "qc.draw()"
   ]
  },
  {
   "cell_type": "markdown",
   "metadata": {},
   "source": [
    "### Backend transpiled circuit\n",
    "\n",
    "Next we transpile our circuit for the coupling map and basis gates for a device. We will assume all-to-all coupling for simplicity of this example."
   ]
  },
  {
   "cell_type": "code",
   "execution_count": 4,
   "metadata": {},
   "outputs": [
    {
     "name": "stderr",
     "output_type": "stream",
     "text": [
      "/Users/cjwood/git/qiskit/qiskit-terra/qiskit/transpiler/passes/routing/stochastic_swap.py:272: DeprecationWarning: edge_map arg as a dictionary is deprecated. Use qubits and clbits args to specify a list of self edges to compose onto.\n",
      "  dagcircuit_output.compose(layer_circuit, edge_map)\n",
      "/Users/cjwood/git/qiskit/qiskit-terra/qiskit/transpiler/passes/routing/stochastic_swap.py:383: DeprecationWarning: edge_map arg as a dictionary is deprecated. Use qubits and clbits args to specify a list of self edges to compose onto.\n",
      "  identity_wire_map)\n",
      "/Users/cjwood/git/qiskit/qiskit-terra/qiskit/transpiler/passes/routing/stochastic_swap.py:272: DeprecationWarning: edge_map arg as a dictionary is deprecated. Use qubits and clbits args to specify a list of self edges to compose onto.\n",
      "  dagcircuit_output.compose(layer_circuit, edge_map)\n",
      "/Users/cjwood/git/qiskit/qiskit-terra/qiskit/transpiler/passes/routing/stochastic_swap.py:383: DeprecationWarning: edge_map arg as a dictionary is deprecated. Use qubits and clbits args to specify a list of self edges to compose onto.\n",
      "  identity_wire_map)\n",
      "/Users/cjwood/git/qiskit/qiskit-terra/qiskit/transpiler/passes/routing/stochastic_swap.py:272: DeprecationWarning: edge_map arg as a dictionary is deprecated. Use qubits and clbits args to specify a list of self edges to compose onto.\n",
      "  dagcircuit_output.compose(layer_circuit, edge_map)\n",
      "/Users/cjwood/git/qiskit/qiskit-terra/qiskit/transpiler/passes/routing/stochastic_swap.py:383: DeprecationWarning: edge_map arg as a dictionary is deprecated. Use qubits and clbits args to specify a list of self edges to compose onto.\n",
      "  identity_wire_map)\n",
      "/Users/cjwood/git/qiskit/qiskit-terra/qiskit/transpiler/passes/routing/stochastic_swap.py:272: DeprecationWarning: edge_map arg as a dictionary is deprecated. Use qubits and clbits args to specify a list of self edges to compose onto.\n",
      "  dagcircuit_output.compose(layer_circuit, edge_map)\n",
      "/Users/cjwood/git/qiskit/qiskit-terra/qiskit/transpiler/passes/routing/stochastic_swap.py:383: DeprecationWarning: edge_map arg as a dictionary is deprecated. Use qubits and clbits args to specify a list of self edges to compose onto.\n",
      "  identity_wire_map)\n",
      "/Users/cjwood/git/qiskit/qiskit-terra/qiskit/transpiler/passes/routing/stochastic_swap.py:272: DeprecationWarning: edge_map arg as a dictionary is deprecated. Use qubits and clbits args to specify a list of self edges to compose onto.\n",
      "  dagcircuit_output.compose(layer_circuit, edge_map)\n",
      "/Users/cjwood/git/qiskit/qiskit-terra/qiskit/transpiler/passes/routing/stochastic_swap.py:383: DeprecationWarning: edge_map arg as a dictionary is deprecated. Use qubits and clbits args to specify a list of self edges to compose onto.\n",
      "  identity_wire_map)\n",
      "/Users/cjwood/git/qiskit/qiskit-terra/qiskit/transpiler/passes/routing/stochastic_swap.py:272: DeprecationWarning: edge_map arg as a dictionary is deprecated. Use qubits and clbits args to specify a list of self edges to compose onto.\n",
      "  dagcircuit_output.compose(layer_circuit, edge_map)\n",
      "/Users/cjwood/git/qiskit/qiskit-terra/qiskit/transpiler/passes/routing/stochastic_swap.py:383: DeprecationWarning: edge_map arg as a dictionary is deprecated. Use qubits and clbits args to specify a list of self edges to compose onto.\n",
      "  identity_wire_map)\n"
     ]
    },
    {
     "data": {
      "text/html": [
       "<pre style=\"word-wrap: normal;white-space: pre;background: #fff0;line-height: 1.1;font-family: &quot;Courier New&quot;,Courier,monospace\">                                                   ┌───┐            \n",
       "q_4 -> 0 ──────────────────────────────────────────┤ X ├────────────\n",
       "                               ┌───┐               └─┬─┘┌──────────┐\n",
       "q_3 -> 1 ───────────────────■──┤ X ├──■────■────■────■──┤ U2(0,pi) ├\n",
       "         ┌──────────┐     ┌─┴─┐└─┬─┘┌─┴─┐  │  ┌─┴─┐     └──────────┘\n",
       "q_1 -> 2 ┤ U2(0,pi) ├──■──┤ X ├──■──┤ X ├──┼──┤ X ├─────────────────\n",
       "         └──────────┘┌─┴─┐└───┘     └───┘  │  └───┘                 \n",
       "q_0 -> 3 ────────────┤ X ├─────────────────┼────────────────────────\n",
       "                     └───┘               ┌─┴─┐                      \n",
       "q_2 -> 4 ────────────────────────────────┤ X ├──────────────────────\n",
       "                                         └───┘                      </pre>"
      ],
      "text/plain": [
       "                                                   ┌───┐            \n",
       "q_4 -> 0 ──────────────────────────────────────────┤ X ├────────────\n",
       "                               ┌───┐               └─┬─┘┌──────────┐\n",
       "q_3 -> 1 ───────────────────■──┤ X ├──■────■────■────■──┤ U2(0,pi) ├\n",
       "         ┌──────────┐     ┌─┴─┐└─┬─┘┌─┴─┐  │  ┌─┴─┐     └──────────┘\n",
       "q_1 -> 2 ┤ U2(0,pi) ├──■──┤ X ├──■──┤ X ├──┼──┤ X ├─────────────────\n",
       "         └──────────┘┌─┴─┐└───┘     └───┘  │  └───┘                 \n",
       "q_0 -> 3 ────────────┤ X ├─────────────────┼────────────────────────\n",
       "                     └───┘               ┌─┴─┐                      \n",
       "q_2 -> 4 ────────────────────────────────┤ X ├──────────────────────\n",
       "                                         └───┘                      "
      ]
     },
     "execution_count": 4,
     "metadata": {},
     "output_type": "execute_result"
    }
   ],
   "source": [
    "# Transpile circuit\n",
    "qc_transpiled = transpile(qc, basis_gates=['u1', 'u2', 'u3', 'cx', 'delay'],\n",
    "                          coupling_map=coupling_map)\n",
    "qc_transpiled.draw(fold=100)"
   ]
  },
  {
   "cell_type": "markdown",
   "metadata": {},
   "source": [
    "For later fidelity comparisons we get the unitary operator for this ideal circuit"
   ]
  },
  {
   "cell_type": "code",
   "execution_count": 5,
   "metadata": {},
   "outputs": [],
   "source": [
    "op_ideal = qi.Operator(qc_transpiled)"
   ]
  },
  {
   "cell_type": "markdown",
   "metadata": {},
   "source": [
    "## Scheduling circuit\n",
    "\n",
    "Next we schedule the circuit, this requires time information for each basis gate and will insert delays on idle qubits"
   ]
  },
  {
   "cell_type": "code",
   "execution_count": 6,
   "metadata": {},
   "outputs": [
    {
     "name": "stdout",
     "output_type": "stream",
     "text": [
      "     |----------------------------------------------------------------------------------------------\n",
      "q_0: |                                                 DELAY(10400)[10400]                          \n",
      "q_1: |        DELAY(2144)[2144]        | CX(1,2)[1632] | CX(2,1)[1792] | CX(1,2)[1632] |   CX(1,4)[1\n",
      "q_2: |  U2(0,pi)[160]  | CX(2,3)[1984] | CX(1,2)[1632] | CX(2,1)[1792] | CX(1,2)[1632] | DELAY(1568)\n",
      "q_3: | DELAY(160)[160] | CX(2,3)[1984] |                                                  DELAY(9984\n",
      "q_4: |                                DELAY(7200)[7200]                                |   CX(1,4)[1\n",
      "     |----------------------------------------------------------------------------------------------\n",
      "---------------------------------------------------------|\n",
      "                       | CX(1,0)[1568] | DELAY(160)[160] |\n",
      "568]   | CX(1,2)[1632] | CX(1,0)[1568] |  U2(0,pi)[160]  |\n",
      "[1568] | CX(1,2)[1632] |        DELAY(1728)[1728]        |\n",
      ")[9984]                                                  |\n",
      "568]   |                DELAY(3360)[3360]                |\n",
      "---------------------------------------------------------|\n"
     ]
    },
    {
     "data": {
      "image/png": "[encoded data removed]",
      "text/plain": [
       "<Figure size 1141.39x325.08 with 1 Axes>"
      ]
     },
     "execution_count": 6,
     "metadata": {},
     "output_type": "execute_result"
    }
   ],
   "source": [
    "from qiskit.test.mock.backends import FakeParis\n",
    "\n",
    "qc_scheduled = schedule(qc_transpiled, backend)\n",
    "print(qc_scheduled.draw(fold=100))\n",
    "qc_scheduled.draw('mpl')"
   ]
  },
  {
   "cell_type": "markdown",
   "metadata": {},
   "source": [
    "## Relaxation noise insertion\n",
    "\n",
    "Next we will use the scheduled circuit to insert relaxation noise on all instructions (including idle qubits). For this we need to get the T1 and T2 times for the backend, and the dt time unit to relate gate durations in the correct units"
   ]
  },
  {
   "cell_type": "code",
   "execution_count": 7,
   "metadata": {},
   "outputs": [],
   "source": [
    "# Get dt, T1s and T2s from \n",
    "num_qubits = configuration.num_qubits\n",
    "dt = configuration.dt\n",
    "t1 = [properties.t1(i) for i in range(num_qubits)]\n",
    "t2 = [properties.t2(i) for i in range(num_qubits)]"
   ]
  },
  {
   "cell_type": "code",
   "execution_count": 8,
   "metadata": {},
   "outputs": [
    {
     "data": {
      "text/html": [
       "<pre style=\"word-wrap: normal;white-space: pre;background: #fff0;line-height: 1.1;font-family: &quot;Courier New&quot;,Courier,monospace\">     ┌──────────────┐                                                                          »\n",
       "q_0: ┤ delay(noise) ├──────────────────────────────────────────────────────────────────────────»\n",
       "     ├──────────────┤               ┌────────────┐ ┌────────────┐┌────────────┐                »\n",
       "q_1: ┤ delay(noise) ├───────────────┤0           ├─┤1           ├┤0           ├────────────────»\n",
       "     └┬───────────┬─┘┌────────────┐ │  cx(noise) │ │  cx(noise) ││  cx(noise) │┌──────────────┐»\n",
       "q_2: ─┤ u2(noise) ├──┤0           ├─┤1           ├─┤0           ├┤1           ├┤ delay(noise) ├»\n",
       "     ┌┴───────────┴─┐│  cx(noise) │┌┴────────────┴┐└────────────┘└────────────┘└──────────────┘»\n",
       "q_3: ┤ delay(noise) ├┤1           ├┤ delay(noise) ├────────────────────────────────────────────»\n",
       "     ├──────────────┤└────────────┘└──────────────┘                                            »\n",
       "q_4: ┤ delay(noise) ├──────────────────────────────────────────────────────────────────────────»\n",
       "     └──────────────┘                                                                          »\n",
       "«                                    ┌────────────┐ ┌──────────────┐\n",
       "«q_0: ───────────────────────────────┤1           ├─┤ delay(noise) ├\n",
       "«     ┌────────────┐ ┌────────────┐  │  cx(noise) │ └┬───────────┬─┘\n",
       "«q_1: ┤0           ├─┤0           ├──┤0           ├──┤ u2(noise) ├──\n",
       "«     │            │ │  cx(noise) │ ┌┴────────────┴┐ └───────────┘  \n",
       "«q_2: ┤            ├─┤1           ├─┤ delay(noise) ├────────────────\n",
       "«     │  cx(noise) │ └────────────┘ └──────────────┘                \n",
       "«q_3: ┤            ├────────────────────────────────────────────────\n",
       "«     │            │┌──────────────┐                                \n",
       "«q_4: ┤1           ├┤ delay(noise) ├────────────────────────────────\n",
       "«     └────────────┘└──────────────┘                                </pre>"
      ],
      "text/plain": [
       "     ┌──────────────┐                                                                          »\n",
       "q_0: ┤ delay(noise) ├──────────────────────────────────────────────────────────────────────────»\n",
       "     ├──────────────┤               ┌────────────┐ ┌────────────┐┌────────────┐                »\n",
       "q_1: ┤ delay(noise) ├───────────────┤0           ├─┤1           ├┤0           ├────────────────»\n",
       "     └┬───────────┬─┘┌────────────┐ │  cx(noise) │ │  cx(noise) ││  cx(noise) │┌──────────────┐»\n",
       "q_2: ─┤ u2(noise) ├──┤0           ├─┤1           ├─┤0           ├┤1           ├┤ delay(noise) ├»\n",
       "     ┌┴───────────┴─┐│  cx(noise) │┌┴────────────┴┐└────────────┘└────────────┘└──────────────┘»\n",
       "q_3: ┤ delay(noise) ├┤1           ├┤ delay(noise) ├────────────────────────────────────────────»\n",
       "     ├──────────────┤└────────────┘└──────────────┘                                            »\n",
       "q_4: ┤ delay(noise) ├──────────────────────────────────────────────────────────────────────────»\n",
       "     └──────────────┘                                                                          »\n",
       "«                                    ┌────────────┐ ┌──────────────┐\n",
       "«q_0: ───────────────────────────────┤1           ├─┤ delay(noise) ├\n",
       "«     ┌────────────┐ ┌────────────┐  │  cx(noise) │ └┬───────────┬─┘\n",
       "«q_1: ┤0           ├─┤0           ├──┤0           ├──┤ u2(noise) ├──\n",
       "«     │            │ │  cx(noise) │ ┌┴────────────┴┐ └───────────┘  \n",
       "«q_2: ┤            ├─┤1           ├─┤ delay(noise) ├────────────────\n",
       "«     │  cx(noise) │ └────────────┘ └──────────────┘                \n",
       "«q_3: ┤            ├────────────────────────────────────────────────\n",
       "«     │            │┌──────────────┐                                \n",
       "«q_4: ┤1           ├┤ delay(noise) ├────────────────────────────────\n",
       "«     └────────────┘└──────────────┘                                "
      ]
     },
     "execution_count": 8,
     "metadata": {},
     "output_type": "execute_result"
    }
   ],
   "source": [
    "# Insert noise\n",
    "qc_noise_scheduled = insert_noise(qc_scheduled, dt=dt, t1=t1, t2=t2)\n",
    "qc_noise_scheduled.draw(fold=100)"
   ]
  },
  {
   "cell_type": "markdown",
   "metadata": {},
   "source": [
    "Note that how this function is implemented it returns a noisy implemention of the circuit by replacing each instruction with a Kraus operator for the noisy gate. This can then be executed on the Aer QasmSimulator, or using the `DensityMatrix` or `SuperOp` terra quantum info classes"
   ]
  },
  {
   "cell_type": "markdown",
   "metadata": {},
   "source": [
    "### Circuit level error channel\n",
    "\n",
    "We can look at the form of errors in the final circuit superoperator, and compute the average gate fidelity"
   ]
  },
  {
   "cell_type": "code",
   "execution_count": 9,
   "metadata": {},
   "outputs": [],
   "source": [
    "op_noise = qi.SuperOp(qc_noise_scheduled)"
   ]
  },
  {
   "cell_type": "code",
   "execution_count": 10,
   "metadata": {},
   "outputs": [
    {
     "data": {
      "text/plain": [
       "0.8760530026125949"
      ]
     },
     "execution_count": 10,
     "metadata": {},
     "output_type": "execute_result"
    }
   ],
   "source": [
    "qi.average_gate_fidelity(op_noise, op_ideal)"
   ]
  },
  {
   "cell_type": "markdown",
   "metadata": {},
   "source": [
    "We can also look at the operator of the error only term. Lets look at the Pauli-channel twirl of the error term. This is given by the diagonal of the Chi matrix representation"
   ]
  },
  {
   "cell_type": "code",
   "execution_count": 11,
   "metadata": {},
   "outputs": [
    {
     "data": {
      "text/plain": [
       "Text(0.5, 1.0, 'Error terms > 0.5%')"
      ]
     },
     "execution_count": 11,
     "metadata": {},
     "output_type": "execute_result"
    },
    {
     "data": {
      "image/png": "[encoded data removed]",
      "text/plain": [
       "<Figure size 432x288 with 1 Axes>"
      ]
     },
     "metadata": {},
     "output_type": "display_data"
    }
   ],
   "source": [
    "op_error = op_noise.dot(op_ideal.adjoint())\n",
    "probs = qi.Chi(op_error).data.diagonal().real / (2 ** 5)\n",
    "p_no_error = probs[0]\n",
    "p_errors = probs[1:]\n",
    "\n",
    "all_labels = list(it.product(['I', 'X', 'Y', 'Z'], repeat=5))[1:]\n",
    "\n",
    "threshold = 5e-3\n",
    "labels = [''.join(all_labels[i]) for i in range(len(p_errors)) if p_errors[i] > threshold]\n",
    "paulis = [p_errors[i] for i in range(len(p_errors)) if p_errors[i] > threshold]\n",
    "ax = sns.barplot(labels, paulis, palette='rocket')\n",
    "ax.set_ylabel('Error probability')\n",
    "ax.set_xlabel('Error Term')\n",
    "ax.set_title('Error terms > 0.5%')"
   ]
  },
  {
   "cell_type": "markdown",
   "metadata": {},
   "source": [
    "## Cross talk and relaxation noise insertion\n",
    "\n",
    "Now we will also insert cross talk based on a simple ZZ coupling model"
   ]
  },
  {
   "cell_type": "markdown",
   "metadata": {},
   "source": [
    "### Scheduling with time-steps\n",
    "\n",
    "These align instructions by layers of the longest gate so multiqubit noise like cross-talk can be inserted in the correct locations. Note that this type of scheduling may insert *additional* delay compared to scheduling without time-steps if your gates don't all align on a grid"
   ]
  },
  {
   "cell_type": "code",
   "execution_count": 12,
   "metadata": {},
   "outputs": [
    {
     "name": "stdout",
     "output_type": "stream",
     "text": [
      "     |----------------------------------------------------------------------------------------------\n",
      "q_0: | DELAY(160)[160] | TIMESTEP(160)[0] | DELAY(1984)[1984] | TIMESTEP(1984)[0] | DELAY(1632)[1632\n",
      "q_1: | DELAY(160)[160] | TIMESTEP(160)[0] | DELAY(1984)[1984] | TIMESTEP(1984)[0] |   CX(1,2)[1632] \n",
      "q_2: |  U2(0,pi)[160]  | TIMESTEP(160)[0] |   CX(2,3)[1984]   | TIMESTEP(1984)[0] |   CX(1,2)[1632] \n",
      "q_3: | DELAY(160)[160] | TIMESTEP(160)[0] |   CX(2,3)[1984]   | TIMESTEP(1984)[0] | DELAY(1632)[1632\n",
      "q_4: | DELAY(160)[160] | TIMESTEP(160)[0] | DELAY(1984)[1984] | TIMESTEP(1984)[0] | DELAY(1632)[1632\n",
      "     |----------------------------------------------------------------------------------------------\n",
      "----------------------------------------------------------------------------------------------------\n",
      "] | TIMESTEP(1632)[0] | DELAY(1792)[1792] | TIMESTEP(1792)[0] | DELAY(1632)[1632] | TIMESTEP(1632)[0\n",
      "  | TIMESTEP(1632)[0] |   CX(2,1)[1792]   | TIMESTEP(1792)[0] |   CX(1,2)[1632]   | TIMESTEP(1632)[0\n",
      "  | TIMESTEP(1632)[0] |   CX(2,1)[1792]   | TIMESTEP(1792)[0] |   CX(1,2)[1632]   | TIMESTEP(1632)[0\n",
      "] | TIMESTEP(1632)[0] | DELAY(1792)[1792] | TIMESTEP(1792)[0] | DELAY(1632)[1632] | TIMESTEP(1632)[0\n",
      "] | TIMESTEP(1632)[0] | DELAY(1792)[1792] | TIMESTEP(1792)[0] | DELAY(1632)[1632] | TIMESTEP(1632)[0\n",
      "----------------------------------------------------------------------------------------------------\n",
      "----------------------------------------------------------------------------------------------------\n",
      "] | DELAY(1568)[1568] | TIMESTEP(1568)[0] | DELAY(1632)[1632] | TIMESTEP(1632)[0] |   CX(1,0)[1568] \n",
      "] |   CX(1,4)[1568]   | TIMESTEP(1568)[0] |   CX(1,2)[1632]   | TIMESTEP(1632)[0] |   CX(1,0)[1568] \n",
      "] | DELAY(1568)[1568] | TIMESTEP(1568)[0] |   CX(1,2)[1632]   | TIMESTEP(1632)[0] | DELAY(1568)[1568\n",
      "] | DELAY(1568)[1568] | TIMESTEP(1568)[0] | DELAY(1632)[1632] | TIMESTEP(1632)[0] | DELAY(1568)[1568\n",
      "] |   CX(1,4)[1568]   | TIMESTEP(1568)[0] | DELAY(1632)[1632] | TIMESTEP(1632)[0] | DELAY(1568)[1568\n",
      "----------------------------------------------------------------------------------------------------\n",
      "-----------------------------------------------------------|\n",
      "  | TIMESTEP(1568)[0] | DELAY(160)[160] | TIMESTEP(160)[0] |\n",
      "  | TIMESTEP(1568)[0] |  U2(0,pi)[160]  | TIMESTEP(160)[0] |\n",
      "] | TIMESTEP(1568)[0] | DELAY(160)[160] | TIMESTEP(160)[0] |\n",
      "] | TIMESTEP(1568)[0] | DELAY(160)[160] | TIMESTEP(160)[0] |\n",
      "] | TIMESTEP(1568)[0] | DELAY(160)[160] | TIMESTEP(160)[0] |\n",
      "-----------------------------------------------------------|\n"
     ]
    }
   ],
   "source": [
    "qc_ts_scheduled = timestep_schedule(qc_transpiled, backend)\n",
    "print(qc_ts_scheduled.draw(fold=100))"
   ]
  },
  {
   "cell_type": "markdown",
   "metadata": {},
   "source": [
    "### Inserting Noise\n",
    "\n",
    "Now we insert the cross talk and relaxation noise"
   ]
  },
  {
   "cell_type": "code",
   "execution_count": 13,
   "metadata": {},
   "outputs": [
    {
     "data": {
      "text/plain": [
       "[(314159.2653589793, [0, 1]),\n",
       " (314159.2653589793, [1, 2]),\n",
       " (314159.2653589793, [1, 4]),\n",
       " (314159.2653589793, [2, 3])]"
      ]
     },
     "execution_count": 13,
     "metadata": {},
     "output_type": "execute_result"
    }
   ],
   "source": [
    "w_zz = 2 * np.pi * 50e3  # 50 KHz\n",
    "zz_map = [(w_zz, q) for q in np.unique(np.sort(coupling_map), axis=0).tolist()]\n",
    "zz_map"
   ]
  },
  {
   "cell_type": "code",
   "execution_count": 14,
   "metadata": {},
   "outputs": [
    {
     "data": {
      "text/html": [
       "<pre style=\"word-wrap: normal;white-space: pre;background: #fff0;line-height: 1.1;font-family: &quot;Courier New&quot;,Courier,monospace\">     ┌──────────────┐┌────────────┐┌──────────────┐                              ┌────────────┐»\n",
       "q_0: ┤ delay(noise) ├┤0           ├┤ delay(noise) ├──────────────────────────────┤0           ├»\n",
       "     ├──────────────┤│  ZZ(noise) │└┬────────────┬┘┌────────────┐┌──────────────┐│  ZZ(noise) │»\n",
       "q_1: ┤ delay(noise) ├┤1           ├─┤0           ├─┤0           ├┤ delay(noise) ├┤1           ├»\n",
       "     └┬───────────┬─┘└────────────┘ │  ZZ(noise) │ │            │└┬────────────┬┘├────────────┤»\n",
       "q_2: ─┤ u2(noise) ├─────────────────┤1           ├─┤            ├─┤0           ├─┤0           ├»\n",
       "     ┌┴───────────┴─┐               └────────────┘ │  ZZ(noise) │ │  ZZ(noise) │ │  cx(noise) │»\n",
       "q_3: ┤ delay(noise) ├──────────────────────────────┤            ├─┤1           ├─┤1           ├»\n",
       "     ├──────────────┤                              │            │┌┴────────────┴┐└────────────┘»\n",
       "q_4: ┤ delay(noise) ├──────────────────────────────┤1           ├┤ delay(noise) ├──────────────»\n",
       "     └──────────────┘                              └────────────┘└──────────────┘              »\n",
       "«     ┌──────────────┐                                              ┌────────────┐┌──────────────┐»\n",
       "«q_0: ┤ delay(noise) ├──────────────────────────────────────────────┤0           ├┤ delay(noise) ├»\n",
       "«     └┬────────────┬┘┌────────────┐                 ┌────────────┐ │  ZZ(noise) │└┬────────────┬┘»\n",
       "«q_1: ─┤0           ├─┤0           ├─────────────────┤0           ├─┤1           ├─┤0           ├─»\n",
       "«      │  ZZ(noise) │ │            │ ┌────────────┐  │  cx(noise) │ └────────────┘ │  ZZ(noise) │ »\n",
       "«q_2: ─┤1           ├─┤            ├─┤0           ├──┤1           ├────────────────┤1           ├─»\n",
       "«      └────────────┘ │  ZZ(noise) │ │  ZZ(noise) │ ┌┴────────────┴┐               └────────────┘ »\n",
       "«q_3: ────────────────┤            ├─┤1           ├─┤ delay(noise) ├──────────────────────────────»\n",
       "«                     │            │┌┴────────────┴┐└──────────────┘                              »\n",
       "«q_4: ────────────────┤1           ├┤ delay(noise) ├──────────────────────────────────────────────»\n",
       "«                     └────────────┘└──────────────┘                                              »\n",
       "«                                                   ┌────────────┐┌──────────────┐              »\n",
       "«q_0: ──────────────────────────────────────────────┤0           ├┤ delay(noise) ├──────────────»\n",
       "«     ┌────────────┐                 ┌────────────┐ │  ZZ(noise) │└┬────────────┬┘┌────────────┐»\n",
       "«q_1: ┤0           ├─────────────────┤1           ├─┤1           ├─┤0           ├─┤0           ├»\n",
       "«     │            │ ┌────────────┐  │  cx(noise) │ └────────────┘ │  ZZ(noise) │ │            │»\n",
       "«q_2: ┤            ├─┤0           ├──┤0           ├────────────────┤1           ├─┤            ├»\n",
       "«     │  ZZ(noise) │ │  ZZ(noise) │ ┌┴────────────┴┐               └────────────┘ │  ZZ(noise) │»\n",
       "«q_3: ┤            ├─┤1           ├─┤ delay(noise) ├──────────────────────────────┤            ├»\n",
       "«     │            │┌┴────────────┴┐└──────────────┘                              │            │»\n",
       "«q_4: ┤1           ├┤ delay(noise) ├──────────────────────────────────────────────┤1           ├»\n",
       "«     └────────────┘└──────────────┘                                              └────────────┘»\n",
       "«                                     ┌────────────┐┌──────────────┐                            »\n",
       "«q_0: ────────────────────────────────┤0           ├┤ delay(noise) ├────────────────────────────»\n",
       "«                      ┌────────────┐ │  ZZ(noise) │└┬────────────┬┘┌────────────┐              »\n",
       "«q_1: ─────────────────┤0           ├─┤1           ├─┤0           ├─┤0           ├──────────────»\n",
       "«      ┌────────────┐  │  cx(noise) │ └────────────┘ │  ZZ(noise) │ │            │┌────────────┐»\n",
       "«q_2: ─┤0           ├──┤1           ├────────────────┤1           ├─┤            ├┤0           ├»\n",
       "«      │  ZZ(noise) │ ┌┴────────────┴┐               └────────────┘ │  ZZ(noise) ││  ZZ(noise) │»\n",
       "«q_3: ─┤1           ├─┤ delay(noise) ├──────────────────────────────┤            ├┤1           ├»\n",
       "«     ┌┴────────────┴┐└──────────────┘                              │            │└────────────┘»\n",
       "«q_4: ┤ delay(noise) ├──────────────────────────────────────────────┤1           ├──────────────»\n",
       "«     └──────────────┘                                              └────────────┘              »\n",
       "«                    ┌────────────┐ ┌──────────────┐                                              »\n",
       "«q_0: ───────────────┤0           ├─┤ delay(noise) ├──────────────────────────────────────────────»\n",
       "«     ┌────────────┐ │  ZZ(noise) │ └┬────────────┬┘┌────────────┐                 ┌────────────┐ »\n",
       "«q_1: ┤0           ├─┤1           ├──┤0           ├─┤0           ├─────────────────┤0           ├─»\n",
       "«     │            │┌┴────────────┴┐ │  ZZ(noise) │ │            │ ┌────────────┐  │  cx(noise) │ »\n",
       "«q_2: ┤            ├┤ delay(noise) ├─┤1           ├─┤            ├─┤0           ├──┤1           ├─»\n",
       "«     │  cx(noise) │├──────────────┤ └────────────┘ │  ZZ(noise) │ │  ZZ(noise) │ ┌┴────────────┴┐»\n",
       "«q_3: ┤            ├┤ delay(noise) ├────────────────┤            ├─┤1           ├─┤ delay(noise) ├»\n",
       "«     │            │└──────────────┘                │            │┌┴────────────┴┐└──────────────┘»\n",
       "«q_4: ┤1           ├────────────────────────────────┤1           ├┤ delay(noise) ├────────────────»\n",
       "«     └────────────┘                                └────────────┘└──────────────┘                »\n",
       "«     ┌────────────┐                             ┌────────────┐  ┌────────────┐ ┌──────────────┐»\n",
       "«q_0: ┤0           ├─────────────────────────────┤1           ├──┤0           ├─┤ delay(noise) ├»\n",
       "«     │  ZZ(noise) │┌────────────┐┌────────────┐ │  cx(noise) │  │  ZZ(noise) │ └┬────────────┬┘»\n",
       "«q_1: ┤1           ├┤0           ├┤0           ├─┤0           ├──┤1           ├──┤0           ├─»\n",
       "«     └────────────┘│  ZZ(noise) ││            │ ├────────────┤ ┌┴────────────┴┐ │  ZZ(noise) │ »\n",
       "«q_2: ──────────────┤1           ├┤            ├─┤0           ├─┤ delay(noise) ├─┤1           ├─»\n",
       "«                   └────────────┘│  ZZ(noise) │ │  ZZ(noise) │ ├──────────────┤ └────────────┘ »\n",
       "«q_3: ────────────────────────────┤            ├─┤1           ├─┤ delay(noise) ├────────────────»\n",
       "«                                 │            │┌┴────────────┴┐└──────────────┘                »\n",
       "«q_4: ────────────────────────────┤1           ├┤ delay(noise) ├────────────────────────────────»\n",
       "«                                 └────────────┘└──────────────┘                                »\n",
       "«                                    ┌────────────┐                                           \n",
       "«q_0: ───────────────────────────────┤0           ├───────────────────────────────────────────\n",
       "«     ┌────────────┐ ┌───────────┐   │  ZZ(noise) │ ┌────────────┐┌────────────┐              \n",
       "«q_1: ┤0           ├─┤ u2(noise) ├───┤1           ├─┤0           ├┤0           ├──────────────\n",
       "«     │            │ ├───────────┴┐ ┌┴────────────┴┐│  ZZ(noise) ││            │┌────────────┐\n",
       "«q_2: ┤            ├─┤0           ├─┤ delay(noise) ├┤1           ├┤            ├┤0           ├\n",
       "«     │  ZZ(noise) │ │  ZZ(noise) │ ├──────────────┤└────────────┘│  ZZ(noise) ││  ZZ(noise) │\n",
       "«q_3: ┤            ├─┤1           ├─┤ delay(noise) ├──────────────┤            ├┤1           ├\n",
       "«     │            │┌┴────────────┴┐└──────────────┘              │            │└────────────┘\n",
       "«q_4: ┤1           ├┤ delay(noise) ├──────────────────────────────┤1           ├──────────────\n",
       "«     └────────────┘└──────────────┘                              └────────────┘              </pre>"
      ],
      "text/plain": [
       "     ┌──────────────┐┌────────────┐┌──────────────┐                              ┌────────────┐»\n",
       "q_0: ┤ delay(noise) ├┤0           ├┤ delay(noise) ├──────────────────────────────┤0           ├»\n",
       "     ├──────────────┤│  ZZ(noise) │└┬────────────┬┘┌────────────┐┌──────────────┐│  ZZ(noise) │»\n",
       "q_1: ┤ delay(noise) ├┤1           ├─┤0           ├─┤0           ├┤ delay(noise) ├┤1           ├»\n",
       "     └┬───────────┬─┘└────────────┘ │  ZZ(noise) │ │            │└┬────────────┬┘├────────────┤»\n",
       "q_2: ─┤ u2(noise) ├─────────────────┤1           ├─┤            ├─┤0           ├─┤0           ├»\n",
       "     ┌┴───────────┴─┐               └────────────┘ │  ZZ(noise) │ │  ZZ(noise) │ │  cx(noise) │»\n",
       "q_3: ┤ delay(noise) ├──────────────────────────────┤            ├─┤1           ├─┤1           ├»\n",
       "     ├──────────────┤                              │            │┌┴────────────┴┐└────────────┘»\n",
       "q_4: ┤ delay(noise) ├──────────────────────────────┤1           ├┤ delay(noise) ├──────────────»\n",
       "     └──────────────┘                              └────────────┘└──────────────┘              »\n",
       "«     ┌──────────────┐                                              ┌────────────┐┌──────────────┐»\n",
       "«q_0: ┤ delay(noise) ├──────────────────────────────────────────────┤0           ├┤ delay(noise) ├»\n",
       "«     └┬────────────┬┘┌────────────┐                 ┌────────────┐ │  ZZ(noise) │└┬────────────┬┘»\n",
       "«q_1: ─┤0           ├─┤0           ├─────────────────┤0           ├─┤1           ├─┤0           ├─»\n",
       "«      │  ZZ(noise) │ │            │ ┌────────────┐  │  cx(noise) │ └────────────┘ │  ZZ(noise) │ »\n",
       "«q_2: ─┤1           ├─┤            ├─┤0           ├──┤1           ├────────────────┤1           ├─»\n",
       "«      └────────────┘ │  ZZ(noise) │ │  ZZ(noise) │ ┌┴────────────┴┐               └────────────┘ »\n",
       "«q_3: ────────────────┤            ├─┤1           ├─┤ delay(noise) ├──────────────────────────────»\n",
       "«                     │            │┌┴────────────┴┐└──────────────┘                              »\n",
       "«q_4: ────────────────┤1           ├┤ delay(noise) ├──────────────────────────────────────────────»\n",
       "«                     └────────────┘└──────────────┘                                              »\n",
       "«                                                   ┌────────────┐┌──────────────┐              »\n",
       "«q_0: ──────────────────────────────────────────────┤0           ├┤ delay(noise) ├──────────────»\n",
       "«     ┌────────────┐                 ┌────────────┐ │  ZZ(noise) │└┬────────────┬┘┌────────────┐»\n",
       "«q_1: ┤0           ├─────────────────┤1           ├─┤1           ├─┤0           ├─┤0           ├»\n",
       "«     │            │ ┌────────────┐  │  cx(noise) │ └────────────┘ │  ZZ(noise) │ │            │»\n",
       "«q_2: ┤            ├─┤0           ├──┤0           ├────────────────┤1           ├─┤            ├»\n",
       "«     │  ZZ(noise) │ │  ZZ(noise) │ ┌┴────────────┴┐               └────────────┘ │  ZZ(noise) │»\n",
       "«q_3: ┤            ├─┤1           ├─┤ delay(noise) ├──────────────────────────────┤            ├»\n",
       "«     │            │┌┴────────────┴┐└──────────────┘                              │            │»\n",
       "«q_4: ┤1           ├┤ delay(noise) ├──────────────────────────────────────────────┤1           ├»\n",
       "«     └────────────┘└──────────────┘                                              └────────────┘»\n",
       "«                                     ┌────────────┐┌──────────────┐                            »\n",
       "«q_0: ────────────────────────────────┤0           ├┤ delay(noise) ├────────────────────────────»\n",
       "«                      ┌────────────┐ │  ZZ(noise) │└┬────────────┬┘┌────────────┐              »\n",
       "«q_1: ─────────────────┤0           ├─┤1           ├─┤0           ├─┤0           ├──────────────»\n",
       "«      ┌────────────┐  │  cx(noise) │ └────────────┘ │  ZZ(noise) │ │            │┌────────────┐»\n",
       "«q_2: ─┤0           ├──┤1           ├────────────────┤1           ├─┤            ├┤0           ├»\n",
       "«      │  ZZ(noise) │ ┌┴────────────┴┐               └────────────┘ │  ZZ(noise) ││  ZZ(noise) │»\n",
       "«q_3: ─┤1           ├─┤ delay(noise) ├──────────────────────────────┤            ├┤1           ├»\n",
       "«     ┌┴────────────┴┐└──────────────┘                              │            │└────────────┘»\n",
       "«q_4: ┤ delay(noise) ├──────────────────────────────────────────────┤1           ├──────────────»\n",
       "«     └──────────────┘                                              └────────────┘              »\n",
       "«                    ┌────────────┐ ┌──────────────┐                                              »\n",
       "«q_0: ───────────────┤0           ├─┤ delay(noise) ├──────────────────────────────────────────────»\n",
       "«     ┌────────────┐ │  ZZ(noise) │ └┬────────────┬┘┌────────────┐                 ┌────────────┐ »\n",
       "«q_1: ┤0           ├─┤1           ├──┤0           ├─┤0           ├─────────────────┤0           ├─»\n",
       "«     │            │┌┴────────────┴┐ │  ZZ(noise) │ │            │ ┌────────────┐  │  cx(noise) │ »\n",
       "«q_2: ┤            ├┤ delay(noise) ├─┤1           ├─┤            ├─┤0           ├──┤1           ├─»\n",
       "«     │  cx(noise) │├──────────────┤ └────────────┘ │  ZZ(noise) │ │  ZZ(noise) │ ┌┴────────────┴┐»\n",
       "«q_3: ┤            ├┤ delay(noise) ├────────────────┤            ├─┤1           ├─┤ delay(noise) ├»\n",
       "«     │            │└──────────────┘                │            │┌┴────────────┴┐└──────────────┘»\n",
       "«q_4: ┤1           ├────────────────────────────────┤1           ├┤ delay(noise) ├────────────────»\n",
       "«     └────────────┘                                └────────────┘└──────────────┘                »\n",
       "«     ┌────────────┐                             ┌────────────┐  ┌────────────┐ ┌──────────────┐»\n",
       "«q_0: ┤0           ├─────────────────────────────┤1           ├──┤0           ├─┤ delay(noise) ├»\n",
       "«     │  ZZ(noise) │┌────────────┐┌────────────┐ │  cx(noise) │  │  ZZ(noise) │ └┬────────────┬┘»\n",
       "«q_1: ┤1           ├┤0           ├┤0           ├─┤0           ├──┤1           ├──┤0           ├─»\n",
       "«     └────────────┘│  ZZ(noise) ││            │ ├────────────┤ ┌┴────────────┴┐ │  ZZ(noise) │ »\n",
       "«q_2: ──────────────┤1           ├┤            ├─┤0           ├─┤ delay(noise) ├─┤1           ├─»\n",
       "«                   └────────────┘│  ZZ(noise) │ │  ZZ(noise) │ ├──────────────┤ └────────────┘ »\n",
       "«q_3: ────────────────────────────┤            ├─┤1           ├─┤ delay(noise) ├────────────────»\n",
       "«                                 │            │┌┴────────────┴┐└──────────────┘                »\n",
       "«q_4: ────────────────────────────┤1           ├┤ delay(noise) ├────────────────────────────────»\n",
       "«                                 └────────────┘└──────────────┘                                »\n",
       "«                                    ┌────────────┐                                           \n",
       "«q_0: ───────────────────────────────┤0           ├───────────────────────────────────────────\n",
       "«     ┌────────────┐ ┌───────────┐   │  ZZ(noise) │ ┌────────────┐┌────────────┐              \n",
       "«q_1: ┤0           ├─┤ u2(noise) ├───┤1           ├─┤0           ├┤0           ├──────────────\n",
       "«     │            │ ├───────────┴┐ ┌┴────────────┴┐│  ZZ(noise) ││            │┌────────────┐\n",
       "«q_2: ┤            ├─┤0           ├─┤ delay(noise) ├┤1           ├┤            ├┤0           ├\n",
       "«     │  ZZ(noise) │ │  ZZ(noise) │ ├──────────────┤└────────────┘│  ZZ(noise) ││  ZZ(noise) │\n",
       "«q_3: ┤            ├─┤1           ├─┤ delay(noise) ├──────────────┤            ├┤1           ├\n",
       "«     │            │┌┴────────────┴┐└──────────────┘              │            │└────────────┘\n",
       "«q_4: ┤1           ├┤ delay(noise) ├──────────────────────────────┤1           ├──────────────\n",
       "«     └────────────┘└──────────────┘                              └────────────┘              "
      ]
     },
     "execution_count": 14,
     "metadata": {},
     "output_type": "execute_result"
    }
   ],
   "source": [
    "# Insert noise\n",
    "qc_noise_ts_scheduled = insert_noise(qc_ts_scheduled, dt=dt, t1=t1, t2=t2, zz_map=zz_map)\n",
    "qc_noise_ts_scheduled.draw(fold=100)"
   ]
  },
  {
   "cell_type": "markdown",
   "metadata": {},
   "source": [
    "### Circuit level error channel\n",
    "\n",
    "We can look at the form of errors in the final circuit superoperator, and compute the average gate fidelity"
   ]
  },
  {
   "cell_type": "code",
   "execution_count": 25,
   "metadata": {},
   "outputs": [],
   "source": [
    "op_noise_ts = qi.SuperOp(qc_noise_ts_scheduled)"
   ]
  },
  {
   "cell_type": "code",
   "execution_count": 26,
   "metadata": {},
   "outputs": [
    {
     "data": {
      "text/plain": [
       "0.6770164352353518"
      ]
     },
     "execution_count": 26,
     "metadata": {},
     "output_type": "execute_result"
    }
   ],
   "source": [
    "qi.average_gate_fidelity(op_noise_ts, op_ideal)"
   ]
  },
  {
   "cell_type": "markdown",
   "metadata": {},
   "source": [
    "We can also look at the operator of the error only term. Lets look at the Pauli-channel twirl of the error term. This is given by the diagonal of the Chi matrix representation"
   ]
  },
  {
   "cell_type": "code",
   "execution_count": 27,
   "metadata": {},
   "outputs": [
    {
     "data": {
      "text/plain": [
       "Text(0.5, 1.0, '50 KHz Cross-talk, error terms > 0.5%')"
      ]
     },
     "execution_count": 27,
     "metadata": {},
     "output_type": "execute_result"
    },
    {
     "data": {
      "image/png": "[encoded data removed]",
      "text/plain": [
       "<Figure size 432x288 with 1 Axes>"
      ]
     },
     "metadata": {},
     "output_type": "display_data"
    }
   ],
   "source": [
    "op_error_ts = op_noise_ts.dot(op_ideal.adjoint())\n",
    "probs_ts = qi.Chi(op_error_ts).data.diagonal().real / (2 ** 5)\n",
    "p_no_error_ts = probs_ts[0]\n",
    "p_errors_ts = probs_ts[1:]\n",
    "\n",
    "threshold = 5e-3\n",
    "\n",
    "labels_ts = [''.join(all_labels[i]) for i in range(len(p_errors_ts)) if p_errors_ts[i] > threshold]\n",
    "paulis_ts = [p_errors_ts[i] for i in range(len(p_errors_ts)) if p_errors_ts[i] > threshold]\n",
    "ax = sns.barplot(labels_ts, paulis_ts, palette='rocket')\n",
    "ax.set_ylabel('Error probability')\n",
    "ax.set_xlabel('Error Term')\n",
    "ax.set_title('50 KHz Cross-talk, error terms > 0.5%')"
   ]
  },
  {
   "cell_type": "markdown",
   "metadata": {},
   "source": [
    "## Generate data as function of cross-talk"
   ]
  },
  {
   "cell_type": "code",
   "execution_count": 28,
   "metadata": {},
   "outputs": [],
   "source": [
    "w_zzs = [2e3 * np.pi * f for f in [10, 50, 100, 200]]\n",
    "noise_circs = []\n",
    "\n",
    "for w_zz in w_zzs:\n",
    "    zz_map = [(w_zz, q) for q in np.unique(np.sort(coupling_map), axis=0).tolist()]\n",
    "    noise_circs.append(insert_noise(qc_ts_scheduled, dt=dt, t1=t1, t2=t2, zz_map=zz_map))"
   ]
  },
  {
   "cell_type": "code",
   "execution_count": 29,
   "metadata": {},
   "outputs": [],
   "source": [
    "error_ops = [qi.SuperOp(circ).dot(op_ideal.adjoint()) for circ in noise_circs]\n",
    "fids = [qi.average_gate_fidelity(op) for op in error_ops]\n",
    "\n",
    "noise_probs = [(qi.Chi(op).data.diagonal().real / (2 ** 5))[1:] for op in error_ops]"
   ]
  },
  {
   "cell_type": "code",
   "execution_count": 30,
   "metadata": {},
   "outputs": [],
   "source": [
    "threshold = 1e-2\n",
    "noise_labels = []\n",
    "noise_ps = []\n",
    "for probs in noise_probs:\n",
    "    size = len(probs)\n",
    "    noise_labels.append([''.join(all_labels[i]) for i in range(size) if probs[i] > threshold])\n",
    "    noise_ps.append([probs[i] for i in range(size) if probs[i] > threshold])"
   ]
  },
  {
   "cell_type": "code",
   "execution_count": 32,
   "metadata": {},
   "outputs": [
    {
     "name": "stdout",
     "output_type": "stream",
     "text": [
      "F_ave = 0.867\n"
     ]
    },
    {
     "data": {
      "text/plain": [
       "Text(0.5, 1.0, '10 KHz Cross-talk, error terms > 1%')"
      ]
     },
     "execution_count": 32,
     "metadata": {},
     "output_type": "execute_result"
    },
    {
     "data": {
      "image/png": "[encoded data removed]",
      "text/plain": [
       "<Figure size 432x288 with 1 Axes>"
      ]
     },
     "metadata": {},
     "output_type": "display_data"
    }
   ],
   "source": [
    "print('F_ave =', round(fids[0], 3))\n",
    "\n",
    "ax1 = sns.barplot(noise_labels[0], noise_ps[0], palette='rocket')\n",
    "ax1.set(ylim=(0, 0.1))\n",
    "ax1.set_ylabel('Error probability')\n",
    "ax1.set_xlabel('Error Term')\n",
    "ax1.set_title('10 KHz Cross-talk, error terms > 1%')"
   ]
  },
  {
   "cell_type": "code",
   "execution_count": 33,
   "metadata": {},
   "outputs": [
    {
     "name": "stdout",
     "output_type": "stream",
     "text": [
      "F_ave = 0.677\n"
     ]
    },
    {
     "data": {
      "text/plain": [
       "Text(0.5, 1.0, '50 KHz Cross-talk, error terms > 1%')"
      ]
     },
     "execution_count": 33,
     "metadata": {},
     "output_type": "execute_result"
    },
    {
     "data": {
      "image/png": "[encoded data removed]",
      "text/plain": [
       "<Figure size 432x288 with 1 Axes>"
      ]
     },
     "metadata": {},
     "output_type": "display_data"
    }
   ],
   "source": [
    "print('F_ave =', round(fids[1], 3))\n",
    "\n",
    "ax2 = sns.barplot(noise_labels[1], noise_ps[1], palette='rocket')\n",
    "ax2.set(ylim=(0, 0.1))\n",
    "ax2.set_ylabel('Error probability')\n",
    "ax2.set_xlabel('Error Term')\n",
    "ax2.set_title('50 KHz Cross-talk, error terms > 1%')"
   ]
  },
  {
   "cell_type": "code",
   "execution_count": 34,
   "metadata": {},
   "outputs": [
    {
     "name": "stdout",
     "output_type": "stream",
     "text": [
      "F_ave = 0.364\n"
     ]
    },
    {
     "data": {
      "text/plain": [
       "Text(0.5, 1.0, '100 KHz Cross-talk, error terms > 1%')"
      ]
     },
     "execution_count": 34,
     "metadata": {},
     "output_type": "execute_result"
    },
    {
     "data": {
      "image/png": "[encoded data removed]",
      "text/plain": [
       "<Figure size 432x288 with 1 Axes>"
      ]
     },
     "metadata": {},
     "output_type": "display_data"
    }
   ],
   "source": [
    "print('F_ave =', round(fids[2], 3))\n",
    "\n",
    "ax3 = sns.barplot(noise_labels[2], noise_ps[2], palette='rocket')\n",
    "ax3.set(ylim=(0, 0.1))\n",
    "ax3.set_ylabel('Error probability')\n",
    "ax3.set_xlabel('Error Term')\n",
    "ax3.set_title('100 KHz Cross-talk, error terms > 1%')"
   ]
  },
  {
   "cell_type": "code",
   "execution_count": 35,
   "metadata": {},
   "outputs": [
    {
     "name": "stdout",
     "output_type": "stream",
     "text": [
      "F_ave = 0.089\n"
     ]
    },
    {
     "data": {
      "text/plain": [
       "Text(0.5, 1.0, '200 KHz Cross-talk, error terms > 1%')"
      ]
     },
     "execution_count": 35,
     "metadata": {},
     "output_type": "execute_result"
    },
    {
     "data": {
      "image/png": "[encoded data removed]",
      "text/plain": [
       "<Figure size 432x288 with 1 Axes>"
      ]
     },
     "metadata": {},
     "output_type": "display_data"
    }
   ],
   "source": [
    "print('F_ave =', round(fids[3], 3))\n",
    "\n",
    "ax4 = sns.barplot(noise_labels[3], noise_ps[3], palette='rocket')\n",
    "ax4.set(ylim=(0, 0.1))\n",
    "ax4.set_ylabel('Error probability')\n",
    "ax4.set_xlabel('Error Term')\n",
    "ax4.set_title('200 KHz Cross-talk, error terms > 1%')"
   ]
  },
  {
   "cell_type": "code",
   "execution_count": null,
   "metadata": {},
   "outputs": [],
   "source": []
  }
 ],
 "metadata": {
  "kernelspec": {
   "display_name": "Python (qiskit-dev)",
   "language": "python",
   "name": "qiskit-dev"
  },
  "language_info": {
   "codemirror_mode": {
    "name": "ipython",
    "version": 3
   },
   "file_extension": ".py",
   "mimetype": "text/x-python",
   "name": "python",
   "nbconvert_exporter": "python",
   "pygments_lexer": "ipython3",
   "version": "3.7.3"
  }
 },
 "nbformat": 4,
 "nbformat_minor": 2
}
