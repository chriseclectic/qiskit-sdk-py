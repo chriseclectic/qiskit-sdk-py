{
 "cells": [
  {
   "cell_type": "markdown",
   "metadata": {},
   "source": [
    "# Examples of scheduled circuit  (circuit with duration)"
   ]
  },
  {
   "cell_type": "markdown",
   "metadata": {},
   "source": [
    "## Manual construction of T2 experiment"
   ]
  },
  {
   "cell_type": "code",
   "execution_count": 1,
   "metadata": {},
   "outputs": [
    {
     "name": "stdout",
     "output_type": "stream",
     "text": [
      "t2_experiment [(HGate(num_qubits=1, duration=None), [Qubit(QuantumRegister(1, 'q'), 0)], []), (Delay(num_qubits=1, duration=1.0000000000000001e-07), [Qubit(QuantumRegister(1, 'q'), 0)], []), (HGate(num_qubits=1, duration=None), [Qubit(QuantumRegister(1, 'q'), 0)], []), (Measure(num_qubits=1, duration=None), [Qubit(QuantumRegister(1, 'q'), 0)], [Clbit(ClassicalRegister(1, 'c'), 0)])]\n"
     ]
    }
   ],
   "source": [
    "from qiskit import QuantumCircuit\n",
    "qc = QuantumCircuit(1, 1, name=\"t2_experiment\")\n",
    "qc.h(0)\n",
    "qc.delay(100, 0, unit='ns')\n",
    "qc.h(0)\n",
    "qc.measure(0, 0)\n",
    "print(qc.name, qc.data)"
   ]
  },
  {
   "cell_type": "markdown",
   "metadata": {},
   "source": [
    "## Schedule Bell experiment with scheduling passes"
   ]
  },
  {
   "cell_type": "code",
   "execution_count": 2,
   "metadata": {},
   "outputs": [],
   "source": [
    "from qiskit import transpile\n",
    "from qiskit.converters import circuit_to_dag, dag_to_circuit\n",
    "from qiskit.transpiler.passes.scheduling.asap import ASAPSchedule\n",
    "from qiskit.transpiler.passes.scheduling.alap import ALAPSchedule"
   ]
  },
  {
   "cell_type": "code",
   "execution_count": 3,
   "metadata": {},
   "outputs": [],
   "source": [
    "from qiskit.test.mock.backends import FakeParis\n",
    "backend = FakeParis()"
   ]
  },
  {
   "cell_type": "code",
   "execution_count": 4,
   "metadata": {},
   "outputs": [
    {
     "name": "stdout",
     "output_type": "stream",
     "text": [
      "bell [(HGate(num_qubits=1, duration=None), [Qubit(QuantumRegister(2, 'q'), 0)], []), (Delay(num_qubits=1, duration=1.0000000000000002e-06), [Qubit(QuantumRegister(2, 'q'), 1)], []), (CXGate(num_qubits=2, duration=None), [Qubit(QuantumRegister(2, 'q'), 0), Qubit(QuantumRegister(2, 'q'), 1)], [])]\n",
      "bell_asap [(U2Gate(num_qubits=1, duration=160), [Qubit(QuantumRegister(27, 'q'), 0)], []), (Delay(num_qubits=1, duration=4340), [Qubit(QuantumRegister(27, 'q'), 0)], []), (Delay(num_qubits=1, duration=4500), [Qubit(QuantumRegister(27, 'q'), 1)], []), (CXGate(num_qubits=2, duration=1408), [Qubit(QuantumRegister(27, 'q'), 0), Qubit(QuantumRegister(27, 'q'), 1)], [])]\n"
     ]
    }
   ],
   "source": [
    "qc = QuantumCircuit(2, name=\"bell\")\n",
    "qc.h(0)\n",
    "qc.delay(1000, 1, unit='ns')\n",
    "qc.cx(0,1)\n",
    "print(qc.name, qc.data)\n",
    "transpiled = transpile(qc, backend=backend, optimization_level=0, basis_gates=['u1', 'u2', 'u3', 'cx', 'delay'])\n",
    "# print(transpiled.data)\n",
    "dag = circuit_to_dag(transpiled)\n",
    "dag_with_delays = ASAPSchedule(backend).run(dag)\n",
    "scheduled = dag_to_circuit(dag_with_delays)\n",
    "print(scheduled.name, scheduled.data)"
   ]
  },
  {
   "cell_type": "markdown",
   "metadata": {},
   "source": [
    "###  ASAP or ALAP Schedule"
   ]
  },
  {
   "cell_type": "code",
   "execution_count": 5,
   "metadata": {},
   "outputs": [
    {
     "name": "stdout",
     "output_type": "stream",
     "text": [
      "h2 [(HGate(num_qubits=1, duration=None), [Qubit(QuantumRegister(2, 'q'), 0)], []), (XGate(num_qubits=1, duration=None), [Qubit(QuantumRegister(2, 'q'), 1)], [])]\n"
     ]
    }
   ],
   "source": [
    "qc = QuantumCircuit(2, name=\"h2\")\n",
    "qc.h(0)\n",
    "qc.x(1)\n",
    "print(qc.name, qc.data)\n",
    "dag = circuit_to_dag(transpile(qc, backend=backend, optimization_level=0))"
   ]
  },
  {
   "cell_type": "code",
   "execution_count": 6,
   "metadata": {},
   "outputs": [
    {
     "name": "stdout",
     "output_type": "stream",
     "text": [
      "h2_asap [(U2Gate(num_qubits=1, duration=160), [Qubit(QuantumRegister(27, 'q'), 0)], []), (Delay(num_qubits=1, duration=160), [Qubit(QuantumRegister(27, 'q'), 0)], []), (U3Gate(num_qubits=1, duration=320), [Qubit(QuantumRegister(27, 'q'), 1)], [])]\n"
     ]
    }
   ],
   "source": [
    "#ASAP\n",
    "dag_with_delays = ASAPSchedule(backend).run(dag)\n",
    "scheduled = dag_to_circuit(dag_with_delays)\n",
    "print(scheduled.name, scheduled.data)"
   ]
  },
  {
   "cell_type": "code",
   "execution_count": 7,
   "metadata": {},
   "outputs": [
    {
     "name": "stdout",
     "output_type": "stream",
     "text": [
      "h2_alap [(Delay(num_qubits=1, duration=160), [Qubit(QuantumRegister(27, 'q'), 0)], []), (U2Gate(num_qubits=1, duration=160), [Qubit(QuantumRegister(27, 'q'), 0)], []), (U3Gate(num_qubits=1, duration=320), [Qubit(QuantumRegister(27, 'q'), 1)], [])]\n"
     ]
    }
   ],
   "source": [
    "#ALAP\n",
    "dag_with_delays = ALAPSchedule(backend).run(dag)\n",
    "scheduled = dag_to_circuit(dag_with_delays)\n",
    "print(scheduled.name, scheduled.data)"
   ]
  },
  {
   "cell_type": "markdown",
   "metadata": {},
   "source": [
    "###  Schedule passes convert the duration units into dt (values are rounded)"
   ]
  },
  {
   "cell_type": "code",
   "execution_count": 8,
   "metadata": {},
   "outputs": [
    {
     "name": "stdout",
     "output_type": "stream",
     "text": [
      "[(HGate(num_qubits=1, duration=None), [Qubit(QuantumRegister(2, 'q'), 0)], []), (Delay(num_qubits=1, duration=9.99e-07), [Qubit(QuantumRegister(2, 'q'), 1)], []), (CXGate(num_qubits=2, duration=None), [Qubit(QuantumRegister(2, 'q'), 0), Qubit(QuantumRegister(2, 'q'), 1)], [])]\n",
      "[(U2Gate(num_qubits=1, duration=160), [Qubit(QuantumRegister(27, 'q'), 0)], []), (Delay(num_qubits=1, duration=4336), [Qubit(QuantumRegister(27, 'q'), 0)], []), (Delay(num_qubits=1, duration=4496), [Qubit(QuantumRegister(27, 'q'), 1)], []), (CXGate(num_qubits=2, duration=1408), [Qubit(QuantumRegister(27, 'q'), 0), Qubit(QuantumRegister(27, 'q'), 1)], [])]\n"
     ]
    },
    {
     "name": "stderr",
     "output_type": "stream",
     "text": [
      "/Users/itoko/swd/qiskit-dev/qiskit-sdk-py/qiskit/transpiler/passes/scheduling/asap.py:51: UserWarning: Duration of delay is rounded to 4496 dt = 9.991111e-07 s from 9.990000e-07\n",
      "  UserWarning)\n"
     ]
    }
   ],
   "source": [
    "bell = QuantumCircuit(2, name=\"bell_with_manual_delay_ns\")\n",
    "bell.h(0)\n",
    "bell.delay(999, 1, unit='ns')\n",
    "bell.cx(0,1)\n",
    "print(bell.data)\n",
    "transpiled = transpile(bell, backend=backend, optimization_level=0, basis_gates=['u1', 'u2', 'u3', 'cx', 'delay'])\n",
    "dag = circuit_to_dag(transpiled)\n",
    "dag_with_delays = ASAPSchedule(backend).run(dag)\n",
    "scheduled = dag_to_circuit(dag_with_delays)\n",
    "print(scheduled.data)"
   ]
  },
  {
   "cell_type": "code",
   "execution_count": 9,
   "metadata": {},
   "outputs": [
    {
     "name": "stdout",
     "output_type": "stream",
     "text": [
      "[(HGate(num_qubits=1, duration=None), [Qubit(QuantumRegister(2, 'q'), 0)], []), (Delay(num_qubits=1, duration=999), [Qubit(QuantumRegister(2, 'q'), 1)], []), (CXGate(num_qubits=2, duration=None), [Qubit(QuantumRegister(2, 'q'), 0), Qubit(QuantumRegister(2, 'q'), 1)], [])]\n",
      "[(U2Gate(num_qubits=1, duration=160), [Qubit(QuantumRegister(27, 'q'), 0)], []), (Delay(num_qubits=1, duration=839), [Qubit(QuantumRegister(27, 'q'), 0)], []), (Delay(num_qubits=1, duration=999), [Qubit(QuantumRegister(27, 'q'), 1)], []), (CXGate(num_qubits=2, duration=1408), [Qubit(QuantumRegister(27, 'q'), 0), Qubit(QuantumRegister(27, 'q'), 1)], [])]\n"
     ]
    }
   ],
   "source": [
    "bell = QuantumCircuit(2, name=\"bell_with_manual_delay_unitless\")\n",
    "bell.h(0)\n",
    "bell.delay(999, 1)\n",
    "bell.cx(0,1)\n",
    "print(bell.data)\n",
    "transpiled = transpile(bell, backend=backend, optimization_level=0, basis_gates=['u1', 'u2', 'u3', 'cx', 'delay'])\n",
    "dag = circuit_to_dag(transpiled)\n",
    "dag_with_delays = ASAPSchedule(backend).run(dag)\n",
    "scheduled = dag_to_circuit(dag_with_delays)\n",
    "print(scheduled.data)"
   ]
  },
  {
   "cell_type": "code",
   "execution_count": null,
   "metadata": {},
   "outputs": [],
   "source": []
  }
 ],
 "metadata": {
  "kernelspec": {
   "display_name": "Python 3",
   "language": "python",
   "name": "python3"
  },
  "language_info": {
   "codemirror_mode": {
    "name": "ipython",
    "version": 3
   },
   "file_extension": ".py",
   "mimetype": "text/x-python",
   "name": "python",
   "nbconvert_exporter": "python",
   "pygments_lexer": "ipython3",
   "version": "3.7.3"
  }
 },
 "nbformat": 4,
 "nbformat_minor": 2
}
