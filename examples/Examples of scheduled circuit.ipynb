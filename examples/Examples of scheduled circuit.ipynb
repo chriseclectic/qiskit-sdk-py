{
 "cells": [
  {
   "cell_type": "markdown",
   "metadata": {},
   "source": [
    "# Examples of scheduled circuit  (circuit with duration)"
   ]
  },
  {
   "cell_type": "code",
   "execution_count": 1,
   "metadata": {},
   "outputs": [],
   "source": [
    "from qiskit import QuantumCircuit\n",
    "from qiskit.test.mock.backends import FakeParis\n",
    "backend = FakeParis()"
   ]
  },
  {
   "cell_type": "markdown",
   "metadata": {},
   "source": [
    "## Manual construction of T2 experiment"
   ]
  },
  {
   "cell_type": "code",
   "execution_count": 2,
   "metadata": {},
   "outputs": [
    {
     "data": {
      "text/html": [
       "<pre style=\"word-wrap: normal;white-space: pre;background: #fff0;line-height: 1.1;font-family: &quot;Courier New&quot;,Courier,monospace\">     ┌───┐┌───────┐┌───┐┌─┐\n",
       "q_0: ┤ H ├┤ DELAY ├┤ H ├┤M├\n",
       "     └───┘└───────┘└───┘└╥┘\n",
       "c_0: ════════════════════╩═\n",
       "                           </pre>"
      ],
      "text/plain": [
       "     ┌───┐┌───────┐┌───┐┌─┐\n",
       "q_0: ┤ H ├┤ DELAY ├┤ H ├┤M├\n",
       "     └───┘└───────┘└───┘└╥┘\n",
       "c_0: ════════════════════╩═\n",
       "                           "
      ]
     },
     "execution_count": 2,
     "metadata": {},
     "output_type": "execute_result"
    }
   ],
   "source": [
    "qc = QuantumCircuit(1, 1, name=\"t2_experiment\")\n",
    "qc.h(0)\n",
    "qc.delay(1000, 0, unit='ns')\n",
    "qc.h(0)\n",
    "qc.measure(0, 0)\n",
    "qc.draw()"
   ]
  },
  {
   "cell_type": "code",
   "execution_count": 3,
   "metadata": {},
   "outputs": [
    {
     "name": "stdout",
     "output_type": "stream",
     "text": [
      "     |--------------------------------------------------------------|\n",
      "q_0: | U2(0,pi)[160] | DELAY[4500] | U2(0,pi)[160] | MEASURE[19200] |\n",
      "     |--------------------------------------------------------------|\n"
     ]
    }
   ],
   "source": [
    "print(qc.schedule(backend))"
   ]
  },
  {
   "cell_type": "markdown",
   "metadata": {},
   "source": [
    "## Schedule Bell experiment with scheduling passes"
   ]
  },
  {
   "cell_type": "code",
   "execution_count": 4,
   "metadata": {},
   "outputs": [],
   "source": [
    "from qiskit import transpile\n",
    "from qiskit.converters import circuit_to_dag, dag_to_circuit\n",
    "from qiskit.transpiler.passes.scheduling.asap import ASAPSchedule\n",
    "from qiskit.transpiler.passes.scheduling.alap import ALAPSchedule"
   ]
  },
  {
   "cell_type": "code",
   "execution_count": 5,
   "metadata": {},
   "outputs": [
    {
     "data": {
      "text/html": [
       "<pre style=\"word-wrap: normal;white-space: pre;background: #fff0;line-height: 1.1;font-family: &quot;Courier New&quot;,Courier,monospace\">       ┌───┐       \n",
       "q_0: ──┤ H ├────■──\n",
       "     ┌─┴───┴─┐┌─┴─┐\n",
       "q_1: ┤ DELAY ├┤ X ├\n",
       "     └───────┘└───┘</pre>"
      ],
      "text/plain": [
       "       ┌───┐       \n",
       "q_0: ──┤ H ├────■──\n",
       "     ┌─┴───┴─┐┌─┴─┐\n",
       "q_1: ┤ DELAY ├┤ X ├\n",
       "     └───────┘└───┘"
      ]
     },
     "execution_count": 5,
     "metadata": {},
     "output_type": "execute_result"
    }
   ],
   "source": [
    "qc = QuantumCircuit(2, name=\"bell\")\n",
    "qc.h(0)\n",
    "qc.delay(1000, 1, unit='ns')\n",
    "qc.cx(0,1)\n",
    "qc.draw()"
   ]
  },
  {
   "cell_type": "code",
   "execution_count": 6,
   "metadata": {},
   "outputs": [
    {
     "name": "stdout",
     "output_type": "stream",
     "text": [
      "     |----------------------------------------|\n",
      "q_0: | DELAY[4340] | U2(0,pi)[160] | CX[1408] |\n",
      "     |----------------------------------------|\n",
      "q_1: | DELAY[4500]                 | CX[1408] |\n",
      "     |----------------------------------------|\n"
     ]
    }
   ],
   "source": [
    "print(qc.schedule(backend))"
   ]
  },
  {
   "cell_type": "markdown",
   "metadata": {},
   "source": [
    "`qc.schedule(backend)` is defined as follows."
   ]
  },
  {
   "cell_type": "code",
   "execution_count": 7,
   "metadata": {},
   "outputs": [
    {
     "name": "stdout",
     "output_type": "stream",
     "text": [
      "     |----------------------------------------|\n",
      "q_0: | DELAY[4340] | U2(0,pi)[160] | CX[1408] |\n",
      "     |----------------------------------------|\n",
      "q_1: | DELAY[4500]                 | CX[1408] |\n",
      "     |----------------------------------------|\n"
     ]
    }
   ],
   "source": [
    "transpiled = transpile(qc, backend=backend, optimization_level=0, basis_gates=['u1', 'u2', 'u3', 'cx', 'delay'])\n",
    "dag = circuit_to_dag(transpiled)\n",
    "dag_with_delays = ALAPSchedule(backend).run(dag)\n",
    "scheduled = dag_to_circuit(dag_with_delays)\n",
    "print(scheduled)"
   ]
  },
  {
   "cell_type": "markdown",
   "metadata": {},
   "source": [
    "###  ASAP or ALAP Schedule"
   ]
  },
  {
   "cell_type": "code",
   "execution_count": 8,
   "metadata": {},
   "outputs": [
    {
     "data": {
      "text/html": [
       "<pre style=\"word-wrap: normal;white-space: pre;background: #fff0;line-height: 1.1;font-family: &quot;Courier New&quot;,Courier,monospace\">     ┌───┐\n",
       "q_0: ┤ H ├\n",
       "     ├───┤\n",
       "q_1: ┤ X ├\n",
       "     └───┘</pre>"
      ],
      "text/plain": [
       "     ┌───┐\n",
       "q_0: ┤ H ├\n",
       "     ├───┤\n",
       "q_1: ┤ X ├\n",
       "     └───┘"
      ]
     },
     "execution_count": 8,
     "metadata": {},
     "output_type": "execute_result"
    }
   ],
   "source": [
    "qc = QuantumCircuit(2, name=\"h2\")\n",
    "qc.h(0)\n",
    "qc.x(1)\n",
    "dag = circuit_to_dag(transpile(qc, backend=backend, optimization_level=0))\n",
    "qc.draw()"
   ]
  },
  {
   "cell_type": "code",
   "execution_count": 9,
   "metadata": {},
   "outputs": [
    {
     "name": "stdout",
     "output_type": "stream",
     "text": [
      "     |----------------------------|\n",
      "q_0: | U2(0,pi)[160] | DELAY[160] |\n",
      "     |----------------------------|\n",
      "q_1: | U3(pi,0,pi)[320]           |\n",
      "     |----------------------------|\n"
     ]
    }
   ],
   "source": [
    "#ASAP\n",
    "dag_with_delays = ASAPSchedule(backend).run(dag)\n",
    "scheduled = dag_to_circuit(dag_with_delays)\n",
    "print(scheduled)"
   ]
  },
  {
   "cell_type": "code",
   "execution_count": 10,
   "metadata": {},
   "outputs": [
    {
     "name": "stdout",
     "output_type": "stream",
     "text": [
      "     |----------------------------|\n",
      "q_0: | DELAY[160] | U2(0,pi)[160] |\n",
      "     |----------------------------|\n",
      "q_1: | U3(pi,0,pi)[320]           |\n",
      "     |----------------------------|\n"
     ]
    }
   ],
   "source": [
    "#ALAP\n",
    "dag_with_delays = ALAPSchedule(backend).run(dag)\n",
    "scheduled = dag_to_circuit(dag_with_delays)\n",
    "print(scheduled)"
   ]
  },
  {
   "cell_type": "markdown",
   "metadata": {},
   "source": [
    "##  Issues identified"
   ]
  },
  {
   "cell_type": "markdown",
   "metadata": {},
   "source": [
    "1. We cannot get length of measure from backend.properties (I struggled [here](https://github.com/itoko/qiskit-sdk-py/blob/1c7bc7f7c8299dab7abc9f0ebb3ef70e496267b3/qiskit/transpiler/passes/scheduling/asap.py#L38))\n",
    "2. As Lauren suggested, we need more useful helper function (or class) for getting duration (gate length) of each instruction.\n",
    "3. Should we output delay when qasm()? Will delay be included in QASM3? (related to https://github.com/Qiskit/qiskit-terra/issues/4312)\n",
    "4. How to distinguish regular circuit and scheduled circuit in the code level: `if self.duration` or `if isinstance(qc, ScheduleCircuit)`"
   ]
  },
  {
   "cell_type": "markdown",
   "metadata": {},
   "source": [
    "##  Questions"
   ]
  },
  {
   "cell_type": "markdown",
   "metadata": {},
   "source": [
    "1. Can you give me any use case where operations of scheduled circuits are required? (When do we really need operations more than `append()`?)"
   ]
  },
  {
   "cell_type": "markdown",
   "metadata": {},
   "source": [
    "## T2 experiment with dynamical decoupling?"
   ]
  },
  {
   "cell_type": "code",
   "execution_count": 11,
   "metadata": {},
   "outputs": [],
   "source": [
    "N = 2"
   ]
  },
  {
   "cell_type": "code",
   "execution_count": 12,
   "metadata": {},
   "outputs": [
    {
     "data": {
      "text/html": [
       "<pre style=\"word-wrap: normal;white-space: pre;background: #fff0;line-height: 1.1;font-family: &quot;Courier New&quot;,Courier,monospace\">     ┌───┐┌───┐┌───┐┌───┐\n",
       "q_0: ┤ X ├┤ Y ├┤ X ├┤ Y ├\n",
       "     └───┘└───┘└───┘└───┘</pre>"
      ],
      "text/plain": [
       "     ┌───┐┌───┐┌───┐┌───┐\n",
       "q_0: ┤ X ├┤ Y ├┤ X ├┤ Y ├\n",
       "     └───┘└───┘└───┘└───┘"
      ]
     },
     "execution_count": 12,
     "metadata": {},
     "output_type": "execute_result"
    }
   ],
   "source": [
    "dd = QuantumCircuit(1, name=\"XYXY\")\n",
    "dd.x(0)\n",
    "dd.y(0)\n",
    "dd.x(0)\n",
    "dd.y(0)\n",
    "dd.draw()"
   ]
  },
  {
   "cell_type": "code",
   "execution_count": 13,
   "metadata": {},
   "outputs": [
    {
     "data": {
      "text/html": [
       "<pre style=\"word-wrap: normal;white-space: pre;background: #fff0;line-height: 1.1;font-family: &quot;Courier New&quot;,Courier,monospace\">     ┌───┐┌────────┐┌───┐┌─┐\n",
       "q_0: ┤ H ├┤ XYXY*2 ├┤ H ├┤M├\n",
       "     └───┘└────────┘└───┘└╥┘\n",
       "c_0: ═════════════════════╩═\n",
       "                            </pre>"
      ],
      "text/plain": [
       "     ┌───┐┌────────┐┌───┐┌─┐\n",
       "q_0: ┤ H ├┤ XYXY*2 ├┤ H ├┤M├\n",
       "     └───┘└────────┘└───┘└╥┘\n",
       "c_0: ═════════════════════╩═\n",
       "                            "
      ]
     },
     "execution_count": 13,
     "metadata": {},
     "output_type": "execute_result"
    }
   ],
   "source": [
    "t2dd = QuantumCircuit(1, 1, name=\"t2_with_dynamical_decoupling\")\n",
    "t2dd.h(0)\n",
    "t2dd.append(dd.to_instruction().repeat(N), qargs=[0])\n",
    "t2dd.h(0)\n",
    "t2dd.measure(0, 0)\n",
    "t2dd.draw()"
   ]
  },
  {
   "cell_type": "code",
   "execution_count": 14,
   "metadata": {
    "scrolled": true
   },
   "outputs": [
    {
     "data": {
      "text/html": [
       "<pre style=\"word-wrap: normal;white-space: pre;background: #fff0;line-height: 1.1;font-family: &quot;Courier New&quot;,Courier,monospace\">     ┌───┐┌───────┐┌───┐┌─┐\n",
       "q_0: ┤ H ├┤ DELAY ├┤ H ├┤M├\n",
       "     └───┘└───────┘└───┘└╥┘\n",
       "c_0: ════════════════════╩═\n",
       "                           </pre>"
      ],
      "text/plain": [
       "     ┌───┐┌───────┐┌───┐┌─┐\n",
       "q_0: ┤ H ├┤ DELAY ├┤ H ├┤M├\n",
       "     └───┘└───────┘└───┘└╥┘\n",
       "c_0: ════════════════════╩═\n",
       "                           "
      ]
     },
     "execution_count": 14,
     "metadata": {},
     "output_type": "execute_result"
    }
   ],
   "source": [
    "t2 = QuantumCircuit(1, 1, name=\"t2_with_delay\")\n",
    "t2.h(0)\n",
    "t2.delay(N * dd.schedule(backend).duration)\n",
    "t2.h(0)\n",
    "t2.measure(0, 0)\n",
    "t2.draw()"
   ]
  },
  {
   "cell_type": "code",
   "execution_count": 15,
   "metadata": {
    "scrolled": false
   },
   "outputs": [
    {
     "name": "stdout",
     "output_type": "stream",
     "text": [
      "     |--------------------------------------------------------------------------\n",
      "q_0: | U2(0,pi)[160] | U3(pi,0,pi)[320] | U3(pi,pi/2,pi/2)[320] | U3(pi,0,pi)[32\n",
      "     |--------------------------------------------------------------------------\n",
      "--------------------------------------------------------------------------------\n",
      "0] | U3(pi,pi/2,pi/2)[320] | U3(pi,0,pi)[320] | U3(pi,pi/2,pi/2)[320] | U3(pi,0,\n",
      "--------------------------------------------------------------------------------\n",
      "------------------------------------------------------------------|\n",
      "pi)[320] | U3(pi,pi/2,pi/2)[320] | U2(0,pi)[160] | MEASURE[19200] |\n",
      "------------------------------------------------------------------|\n"
     ]
    }
   ],
   "source": [
    "print(t2dd.schedule(backend))"
   ]
  },
  {
   "cell_type": "code",
   "execution_count": 16,
   "metadata": {
    "scrolled": true
   },
   "outputs": [
    {
     "name": "stdout",
     "output_type": "stream",
     "text": [
      "     |--------------------------------------------------------------|\n",
      "q_0: | U2(0,pi)[160] | DELAY[2560] | U2(0,pi)[160] | MEASURE[19200] |\n",
      "     |--------------------------------------------------------------|\n"
     ]
    }
   ],
   "source": [
    "print(t2.schedule(backend))"
   ]
  },
  {
   "cell_type": "markdown",
   "metadata": {},
   "source": [
    "###  Schedule passes convert the duration units into dt (values are rounded)"
   ]
  },
  {
   "cell_type": "code",
   "execution_count": 17,
   "metadata": {},
   "outputs": [
    {
     "name": "stdout",
     "output_type": "stream",
     "text": [
      "     |----------------------------------------|\n",
      "q_0: | DELAY[4336] | U2(0,pi)[160] | CX[1408] |\n",
      "     |----------------------------------------|\n",
      "q_1: | DELAY[4496]                 | CX[1408] |\n",
      "     |----------------------------------------|\n"
     ]
    },
    {
     "name": "stderr",
     "output_type": "stream",
     "text": [
      "/Users/itoko/swd/qiskit-dev/qiskit-sdk-py/qiskit/transpiler/passes/scheduling/asap.py:58: UserWarning: Duration of delay is rounded to 4496 dt = 9.991111e-07 s from 9.990000e-07\n",
      "  UserWarning)\n"
     ]
    }
   ],
   "source": [
    "bell = QuantumCircuit(2, name=\"bell_with_manual_delay_ns\")\n",
    "bell.h(0)\n",
    "bell.delay(999, 1, unit='ns')\n",
    "bell.cx(0,1)\n",
    "print(bell.schedule(backend))"
   ]
  },
  {
   "cell_type": "code",
   "execution_count": 18,
   "metadata": {},
   "outputs": [
    {
     "name": "stdout",
     "output_type": "stream",
     "text": [
      "     |---------------------------------------|\n",
      "q_0: | DELAY[839] | U2(0,pi)[160] | CX[1408] |\n",
      "     |---------------------------------------|\n",
      "q_1: | DELAY[999]                 | CX[1408] |\n",
      "     |---------------------------------------|\n"
     ]
    }
   ],
   "source": [
    "bell = QuantumCircuit(2, name=\"bell_with_manual_delay_unitless\")\n",
    "bell.h(0)\n",
    "bell.delay(999, 1)\n",
    "bell.cx(0,1)\n",
    "print(bell.schedule(backend))"
   ]
  },
  {
   "cell_type": "code",
   "execution_count": null,
   "metadata": {},
   "outputs": [],
   "source": []
  }
 ],
 "metadata": {
  "kernelspec": {
   "display_name": "Python 3",
   "language": "python",
   "name": "python3"
  },
  "language_info": {
   "codemirror_mode": {
    "name": "ipython",
    "version": 3
   },
   "file_extension": ".py",
   "mimetype": "text/x-python",
   "name": "python",
   "nbconvert_exporter": "python",
   "pygments_lexer": "ipython3",
   "version": "3.7.3"
  }
 },
 "nbformat": 4,
 "nbformat_minor": 2
}
