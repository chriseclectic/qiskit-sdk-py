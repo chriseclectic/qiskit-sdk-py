{
 "cells": [
  {
   "cell_type": "markdown",
   "metadata": {},
   "source": [
    "# Examples of scheduled circuit "
   ]
  },
  {
   "cell_type": "markdown",
   "metadata": {},
   "source": [
    "## Manual construction of T2 experiment"
   ]
  },
  {
   "cell_type": "code",
   "execution_count": 1,
   "metadata": {},
   "outputs": [
    {
     "name": "stdout",
     "output_type": "stream",
     "text": [
      "[(HGate(num_qubits=1, duration=None), [Qubit(QuantumRegister(1, 'q'), 0)], []), (Delay(num_qubits=1, duration=100), [Qubit(QuantumRegister(1, 'q'), 0)], []), (HGate(num_qubits=1, duration=None), [Qubit(QuantumRegister(1, 'q'), 0)], []), (Measure(num_qubits=1, duration=None), [Qubit(QuantumRegister(1, 'q'), 0)], [Clbit(ClassicalRegister(1, 'c'), 0)])]\n"
     ]
    }
   ],
   "source": [
    "from qiskit import QuantumCircuit\n",
    "qc = QuantumCircuit(1, 1, name=\"t2_experiment\")\n",
    "qc.h(0)\n",
    "qc.delay(100, 0, unit='ns')\n",
    "qc.h(0)\n",
    "qc.measure(0, 0)\n",
    "print(qc.data)"
   ]
  },
  {
   "cell_type": "markdown",
   "metadata": {},
   "source": [
    "## Schedule Bell experiment with scheduling passes"
   ]
  },
  {
   "cell_type": "code",
   "execution_count": 2,
   "metadata": {},
   "outputs": [],
   "source": [
    "from qiskit import IBMQ\n",
    "IBMQ.load_account()\n",
    "provider = IBMQ.get_provider(hub='ibm-q-internal', group='deployed', project='default')"
   ]
  },
  {
   "cell_type": "code",
   "execution_count": 3,
   "metadata": {},
   "outputs": [],
   "source": [
    "backend = provider.get_backend(\"ibmq_paris\")"
   ]
  },
  {
   "cell_type": "code",
   "execution_count": 4,
   "metadata": {},
   "outputs": [
    {
     "name": "stdout",
     "output_type": "stream",
     "text": [
      "[(HGate(num_qubits=1, duration=None), [Qubit(QuantumRegister(2, 'q'), 0)], []), (CXGate(num_qubits=2, duration=None), [Qubit(QuantumRegister(2, 'q'), 0), Qubit(QuantumRegister(2, 'q'), 1)], [])]\n",
      "[(U2Gate(num_qubits=1, duration=161), [Qubit(QuantumRegister(27, 'q'), 0)], []), (Delay(num_qubits=1, duration=161), [Qubit(QuantumRegister(27, 'q'), 1)], []), (CXGate(num_qubits=2, duration=1409), [Qubit(QuantumRegister(27, 'q'), 0), Qubit(QuantumRegister(27, 'q'), 1)], [])]\n"
     ]
    }
   ],
   "source": [
    "from qiskit import transpile\n",
    "from qiskit.converters import circuit_to_dag, dag_to_circuit\n",
    "from qiskit.transpiler.passes.scheduling.asap import ASAPSchedule\n",
    "bell = QuantumCircuit(2, name=\"bell\")\n",
    "bell.h(0)\n",
    "bell.cx(0,1)\n",
    "print(bell.data)\n",
    "dag = circuit_to_dag(transpile(bell, backend=backend, optimization_level=0))\n",
    "dag_with_delays = ASAPSchedule(backend).run(dag)\n",
    "scheduled_bell = dag_to_circuit(dag_with_delays)\n",
    "print(scheduled_bell.data)"
   ]
  },
  {
   "cell_type": "code",
   "execution_count": null,
   "metadata": {},
   "outputs": [],
   "source": []
  },
  {
   "cell_type": "code",
   "execution_count": null,
   "metadata": {},
   "outputs": [],
   "source": []
  }
 ],
 "metadata": {
  "kernelspec": {
   "display_name": "Python 3",
   "language": "python",
   "name": "python3"
  },
  "language_info": {
   "codemirror_mode": {
    "name": "ipython",
    "version": 3
   },
   "file_extension": ".py",
   "mimetype": "text/x-python",
   "name": "python",
   "nbconvert_exporter": "python",
   "pygments_lexer": "ipython3",
   "version": "3.7.3"
  }
 },
 "nbformat": 4,
 "nbformat_minor": 2
}
